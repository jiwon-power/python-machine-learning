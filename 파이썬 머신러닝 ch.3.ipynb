{
 "cells": [
  {
   "cell_type": "code",
   "execution_count": 58,
   "metadata": {},
   "outputs": [
    {
     "name": "stdout",
     "output_type": "stream",
     "text": [
      "C:\\Users\\박지원\\Desktop\\파이썬 머신러닝 ch.3\n"
     ]
    }
   ],
   "source": [
    "import os\n",
    "import pandas as pd\n",
    "os.chdir('C:/Users/박지원/Desktop/파이썬 머신러닝 ch.3')\n",
    "print(os.getcwd())\n",
    "from sklearn.model_selection import train_test_split\n",
    "from sklearn.linear_model import LinearRegression\n",
    "import numpy as np\n",
    "import matplotlib.pyplot as plt"
   ]
  },
  {
   "cell_type": "markdown",
   "metadata": {},
   "source": [
    "### 선형 회귀 "
   ]
  },
  {
   "cell_type": "code",
   "execution_count": 17,
   "metadata": {},
   "outputs": [
    {
     "name": "stdout",
     "output_type": "stream",
     "text": [
      "       x      y\n",
      "0 -0.753 -0.448\n",
      "1  2.700  0.331\n",
      "2  1.390  0.779\n",
      "3  0.592  0.035\n",
      "4 -2.060 -1.390\n",
      "(40, 2)\n"
     ]
    }
   ],
   "source": [
    "dataset=pd.read_csv('wave.csv')\n",
    "print(dataset.head())\n",
    "print(dataset.shape)"
   ]
  },
  {
   "cell_type": "code",
   "execution_count": 18,
   "metadata": {},
   "outputs": [
    {
     "name": "stdout",
     "output_type": "stream",
     "text": [
      "0   -0.753\n",
      "1    2.700\n",
      "2    1.390\n",
      "3    0.592\n",
      "4   -2.060\n",
      "Name: x, dtype: float64\n",
      "(40,)\n"
     ]
    }
   ],
   "source": [
    "x = dataset.iloc[:, 0] #독립변수\n",
    "y = dataset.iloc[:, 1] #종속변수\n",
    "print(x.head())\n",
    "print(x.shape)"
   ]
  },
  {
   "cell_type": "code",
   "execution_count": 19,
   "metadata": {},
   "outputs": [
    {
     "name": "stdout",
     "output_type": "stream",
     "text": [
      "0   -0.448\n",
      "1    0.331\n",
      "2    0.779\n",
      "3    0.035\n",
      "4   -1.390\n",
      "Name: y, dtype: float64\n",
      "(40,)\n"
     ]
    }
   ],
   "source": [
    "print(y.head())\n",
    "print(y.shape)"
   ]
  },
  {
   "cell_type": "code",
   "execution_count": 20,
   "metadata": {},
   "outputs": [
    {
     "name": "stdout",
     "output_type": "stream",
     "text": [
      "(40, 1)\n"
     ]
    }
   ],
   "source": [
    "#x축이 한 개인 것을 2차원으로 변형 , 행의 -1은 기존의 행 수\n",
    "x=x.values.reshape(-1,1)\n",
    "print(x.shape)"
   ]
  },
  {
   "cell_type": "code",
   "execution_count": 22,
   "metadata": {},
   "outputs": [],
   "source": [
    "x_train, x_test,y_train,y_test = train_test_split(x,y,random_state=0)"
   ]
  },
  {
   "cell_type": "code",
   "execution_count": 23,
   "metadata": {},
   "outputs": [],
   "source": [
    "Ir = LinearRegression().fit(x_train,y_train)"
   ]
  },
  {
   "cell_type": "code",
   "execution_count": 26,
   "metadata": {},
   "outputs": [
    {
     "name": "stdout",
     "output_type": "stream",
     "text": [
      "기울기: [0.52468771]\n",
      "절편: -0.09370435583146064\n"
     ]
    }
   ],
   "source": [
    "print('기울기:',Ir.coef_)\n",
    "print('절편:',Ir.intercept_)"
   ]
  },
  {
   "cell_type": "code",
   "execution_count": 27,
   "metadata": {},
   "outputs": [
    {
     "name": "stdout",
     "output_type": "stream",
     "text": [
      "훈련 데이터 점수: 0.688664719797307\n",
      "테스트 데이터 점수: 0.6249237531352055\n",
      "테스트 데이터 점수(반올림): 0.625\n"
     ]
    }
   ],
   "source": [
    "print('훈련 데이터 점수:',Ir.score(x_train, y_train))\n",
    "print('테스트 데이터 점수:',Ir.score(x_test, y_test)) # 두 값의 차이가 크게 없음\n",
    "print('테스트 데이터 점수(반올림):', round(Ir.score(x_test,y_test),3))"
   ]
  },
  {
   "cell_type": "code",
   "execution_count": 29,
   "metadata": {},
   "outputs": [
    {
     "name": "stdout",
     "output_type": "stream",
     "text": [
      "(30, 1)\n",
      "[1.42789001]\n"
     ]
    }
   ],
   "source": [
    "#1개 데이터 예측 - x_train에 사용된 것과 포맷 맞추기\n",
    "print(x_train.shape)\n",
    "x_new=np.array([[2.9]])\n",
    "result = Ir.predict(x_new)\n",
    "print(result)"
   ]
  },
  {
   "cell_type": "markdown",
   "metadata": {},
   "source": [
    "#### 연습문제 1 - 독립변수가 '2.9'인 경우와 '2.7'인 경우를 한 번에 예측하시오."
   ]
  },
  {
   "cell_type": "code",
   "execution_count": 38,
   "metadata": {},
   "outputs": [
    {
     "name": "stdout",
     "output_type": "stream",
     "text": [
      "[1.42789001 1.32295247]\n"
     ]
    }
   ],
   "source": [
    "a_new = np.array([[2.9,2.7]]).T #행렬전치 -> 형태 맞춰주기\n",
    "result = Ir.predict(a_new)\n",
    "print(result)"
   ]
  },
  {
   "cell_type": "markdown",
   "metadata": {},
   "source": [
    "#### 연습문제 2 - 독립변수가 104개인 가상의 데이터에 대해 회귀분석 수행"
   ]
  },
  {
   "cell_type": "code",
   "execution_count": 95,
   "metadata": {
    "scrolled": true
   },
   "outputs": [
    {
     "name": "stdout",
     "output_type": "stream",
     "text": [
      "         x1    x2      x3   x4     x5     x6     x7     x8      x9     x10  \\\n",
      "0  0.000000  0.18  0.0678  0.0  0.315  0.578  0.642  0.269  0.0000  0.2080   \n",
      "1  0.000236  0.00  0.2420  0.0  0.173  0.548  0.783  0.349  0.0435  0.1050   \n",
      "2  0.000236  0.00  0.2420  0.0  0.173  0.694  0.599  0.349  0.0435  0.1050   \n",
      "3  0.000293  0.00  0.0630  0.0  0.150  0.659  0.442  0.449  0.0870  0.0668   \n",
      "4  0.000705  0.00  0.0630  0.0  0.150  0.687  0.528  0.449  0.0870  0.0668   \n",
      "\n",
      "   ...     x96     x97      x98     x99   x100    x101   x102    x103  \\\n",
      "0  ...  0.0597  0.2080  0.01870  0.0825  0.287  0.0258  1.000  0.0897   \n",
      "1  ...  0.0581  0.1050  0.02150  0.3060  0.553  0.1130  1.000  0.2040   \n",
      "2  ...  0.0581  0.1040  0.00666  0.3060  0.548  0.0351  0.980  0.0628   \n",
      "3  ...  0.0433  0.0664  0.00223  0.4210  0.645  0.0217  0.989  0.0332   \n",
      "4  ...  0.0433  0.0668  0.00664  0.4210  0.649  0.0645  1.000  0.0993   \n",
      "\n",
      "      x104     y  \n",
      "0  0.00804  24.0  \n",
      "1  0.04180  21.6  \n",
      "2  0.00403  34.7  \n",
      "3  0.00111  33.4  \n",
      "4  0.00987  36.2  \n",
      "\n",
      "[5 rows x 105 columns]\n"
     ]
    }
   ],
   "source": [
    "reg = pd.read_csv('reg.csv')\n",
    "print(reg.head())"
   ]
  },
  {
   "cell_type": "code",
   "execution_count": 94,
   "metadata": {},
   "outputs": [
    {
     "name": "stdout",
     "output_type": "stream",
     "text": [
      "(506, 105)\n",
      "(506, 104)\n",
      "(506,)\n"
     ]
    }
   ],
   "source": [
    "print(reg.shape)\n",
    "x=reg.iloc[:,:104]\n",
    "y=reg.iloc[:,104]\n",
    "print(x.shape)\n",
    "print(y.shape)"
   ]
  },
  {
   "cell_type": "code",
   "execution_count": 49,
   "metadata": {},
   "outputs": [],
   "source": [
    "# test 데이터와 train 데이터로 쪼개기 \n",
    "x_train, x_test, y_train, y_test = train_test_split(x, y, random_state=0)"
   ]
  },
  {
   "cell_type": "code",
   "execution_count": 53,
   "metadata": {},
   "outputs": [
    {
     "name": "stdout",
     "output_type": "stream",
     "text": [
      "기울기: [-3.67284384e+02 -5.39870613e+01 -1.24554505e+02 -1.26186152e+01\n",
      " -1.67919016e+01  2.76526885e+01  5.39053364e+01 -4.33652020e+01\n",
      "  2.89751049e+01  3.27436811e+01 -1.12176799e+01 -1.47411158e+01\n",
      " -2.08455616e+01  1.29884773e+01  3.09392988e+03  1.11820660e+03\n",
      "  1.14523638e+02 -1.88814537e+01  3.80593914e+01 -2.52969880e+01\n",
      "  6.54487395e+01  8.10994660e+02 -1.45678176e+03  1.69274176e+02\n",
      " -4.03612390e+00  4.40769399e+01 -1.25952433e+01 -1.92269785e+01\n",
      " -2.63059461e+00 -8.26717171e+01  9.43381132e+00  4.99972835e+00\n",
      " -1.65137878e+00 -8.35947375e+00  3.43667871e+01 -1.17489862e+01\n",
      "  7.01362825e+01 -1.64077644e+01  4.29093465e+01  1.76515932e+00\n",
      " -7.43390483e+00  5.21359093e+01  1.63901385e+01  5.11928066e+01\n",
      " -3.65044507e+01  1.84784623e+01 -1.47849877e+01  5.80037019e+01\n",
      " -1.25124793e+01 -1.26186152e+01 -1.73173347e+01 -3.36500848e+01\n",
      "  7.34368733e+00 -7.40329636e+00  1.69262358e+01 -1.30999005e+01\n",
      " -1.16289764e+01  5.76004098e+01 -1.77069129e+01  4.04198483e+00\n",
      "  2.94794320e+01 -1.60630285e+01  8.02757359e+01 -4.13606415e+01\n",
      "  6.31470057e+01 -3.98281834e+01  4.81345956e+00  2.29187895e+01\n",
      "  2.55528452e+01 -4.85821062e+01  2.78684951e+01  7.41908255e+00\n",
      " -6.72077564e+01 -2.28808229e+01  8.86576963e+00 -3.41943212e+00\n",
      "  1.22043616e+00 -4.22253229e+00  4.14508873e+01 -3.99787031e+01\n",
      " -2.70920613e+00 -2.62314933e+01 -3.35687004e+01  4.68184708e+01\n",
      " -2.73242093e+01 -1.52904762e+01 -1.43786994e+01 -2.92832707e+01\n",
      "  3.56992971e+01 -9.01392076e+01  1.42856791e+02 -1.43507309e+01\n",
      " -1.41051131e+01 -2.77709570e+01 -3.28852679e+01  2.57073740e+01\n",
      " -1.91182161e+01  1.80204362e+00  1.62791268e+00  3.48956202e+01\n",
      "  1.27825699e+01  7.47014707e-01  2.56315750e+00  3.09511650e+01]\n",
      "절편: 28.3022823549274\n"
     ]
    }
   ],
   "source": [
    "Ir = LinearRegression().fit(x_train,y_train)\n",
    "print('기울기:', Ir.coef_)\n",
    "print('절편:',Ir.intercept_)"
   ]
  },
  {
   "cell_type": "code",
   "execution_count": 54,
   "metadata": {},
   "outputs": [
    {
     "name": "stdout",
     "output_type": "stream",
     "text": [
      "훈련 데이터 점수: 0.9520916012883632\n",
      "테스터 데이터 점수: 0.6079900265088932\n"
     ]
    }
   ],
   "source": [
    "print('훈련 데이터 점수:', Ir.score(x_train,y_train))\n",
    "print('테스터 데이터 점수:',Ir.score(x_test,y_test))\n",
    "# 차이가 많이 남 -> 모델이 과대적합 되었다."
   ]
  },
  {
   "cell_type": "markdown",
   "metadata": {},
   "source": [
    "### 리지 회귀"
   ]
  },
  {
   "cell_type": "code",
   "execution_count": 57,
   "metadata": {},
   "outputs": [
    {
     "name": "stdout",
     "output_type": "stream",
     "text": [
      "훈련 데이터 점수: 0.8857035621419065\n",
      "테스트 데이터 점수 0.7528777580552187\n"
     ]
    }
   ],
   "source": [
    "from sklearn.linear_model import Ridge # 모델명을 ridge로 수정\n",
    "ridge = Ridge().fit(x_train,y_train)\n",
    "print('훈련 데이터 점수:', ridge.score(x_train,y_train))\n",
    "print('테스트 데이터 점수', ridge.score(x_test,y_test))"
   ]
  },
  {
   "cell_type": "code",
   "execution_count": 61,
   "metadata": {},
   "outputs": [
    {
     "name": "stderr",
     "output_type": "stream",
     "text": [
      "C:\\anaconda\\lib\\site-packages\\sklearn\\linear_model\\_ridge.py:147: LinAlgWarning: Ill-conditioned matrix (rcond=3.39923e-18): result may not be accurate.\n",
      "  return linalg.solve(A, Xy, sym_pos=True,\n"
     ]
    },
    {
     "data": {
      "image/png": "[encoded data removed]",
      "text/plain": [
       "<Figure size 432x288 with 1 Axes>"
      ]
     },
     "metadata": {
      "needs_background": "light"
     },
     "output_type": "display_data"
    }
   ],
   "source": [
    "#최적의 alpha 찾기\n",
    "train_accuracy = []\n",
    "test_accuracy = []     # 결과를 받는 빈 리스트\n",
    "alphas = np.arange(start =0,stop =10 , step = 0.1) # 0~10까지 0.1 단위로 변경\n",
    "\n",
    "for alpha in alphas : \n",
    "    ridge = Ridge(alpha = alpha).fit(x_train,y_train)      # alpha 값 변경\n",
    "    train_accuracy.append(ridge.score(x_train,y_train))    # 훈련 정확도 저장\n",
    "    test_accuracy.append(ridge.score(x_test,y_test))       # 테스트 정확도 저장\n",
    "    \n",
    "plt.plot(alphas, train_accuracy, label = 'Training Accuracy') # 훈련 정확도\n",
    "plt.plot(alphas, test_accuracy, label = 'Test Accuracy') # 테스트 정확도\n",
    "plt.legend()\n",
    "plt.show()"
   ]
  },
  {
   "cell_type": "markdown",
   "metadata": {},
   "source": [
    "### 라소 회귀"
   ]
  },
  {
   "cell_type": "code",
   "execution_count": 62,
   "metadata": {},
   "outputs": [],
   "source": [
    "from sklearn.linear_model import Lasso #모델명을 Lasso로 변경\n",
    "lasso = Lasso().fit(x_train, y_train) "
   ]
  },
  {
   "cell_type": "code",
   "execution_count": 63,
   "metadata": {},
   "outputs": [
    {
     "name": "stdout",
     "output_type": "stream",
     "text": [
      "훈련 데이터 점수: 0.2932077872644063\n",
      "테스트 데이터 점수: 0.20935610983894315\n"
     ]
    }
   ],
   "source": [
    "print('훈련 데이터 점수:', lasso.score(x_train, y_train))\n",
    "print('테스트 데이터 점수:',lasso.score(x_test,y_test))"
   ]
  },
  {
   "cell_type": "code",
   "execution_count": 66,
   "metadata": {},
   "outputs": [
    {
     "name": "stdout",
     "output_type": "stream",
     "text": [
      "훈련 데이터 점수: 0.77094949101076\n",
      "테스트 데이터 점수: 0.6303135818440678\n"
     ]
    }
   ],
   "source": [
    "# alpha 값 줄여서 확인해보기 \n",
    "lasso = Lasso(alpha = 0.1).fit(x_train,y_train)\n",
    "print('훈련 데이터 점수:', lasso.score(x_train, y_train))\n",
    "print('테스트 데이터 점수:',lasso.score(x_test,y_test))"
   ]
  },
  {
   "cell_type": "markdown",
   "metadata": {},
   "source": [
    "### 엘라스틱넷"
   ]
  },
  {
   "cell_type": "code",
   "execution_count": 69,
   "metadata": {},
   "outputs": [],
   "source": [
    "from sklearn.linear_model import ElasticNet\n",
    "elasticnet = ElasticNet(alpha = 0.2, l1_ratio = 0.2).fit(x_train,y_train)"
   ]
  },
  {
   "cell_type": "code",
   "execution_count": 70,
   "metadata": {},
   "outputs": [
    {
     "name": "stdout",
     "output_type": "stream",
     "text": [
      "훈련 데이터 점수: 0.6336737631832918\n",
      "테스트 데이터 점수: 0.453943193953004\n"
     ]
    }
   ],
   "source": [
    "print('훈련 데이터 점수:',elasticnet.score(x_train,y_train))\n",
    "print('테스트 데이터 점수:',elasticnet.score(x_test,y_test))"
   ]
  },
  {
   "cell_type": "markdown",
   "metadata": {},
   "source": [
    "### 로지스틱 회귀"
   ]
  },
  {
   "cell_type": "code",
   "execution_count": 72,
   "metadata": {},
   "outputs": [
    {
     "name": "stdout",
     "output_type": "stream",
     "text": [
      "(569, 31)\n"
     ]
    }
   ],
   "source": [
    "cancer = pd.read_csv('cancer.csv')\n",
    "print(cancer.shape)"
   ]
  },
  {
   "cell_type": "code",
   "execution_count": 75,
   "metadata": {},
   "outputs": [
    {
     "name": "stdout",
     "output_type": "stream",
     "text": [
      "(569, 30)\n",
      "(569,)\n"
     ]
    }
   ],
   "source": [
    "x=cancer.iloc[:,0:30]\n",
    "y=cancer.iloc[:,30]\n",
    "print(x.shape)\n",
    "print(y.shape)"
   ]
  },
  {
   "cell_type": "code",
   "execution_count": 76,
   "metadata": {},
   "outputs": [],
   "source": [
    "# 타겟 컬럼 계층화\n",
    "x_train,x_test,y_train,y_test = train_test_split(x,y,stratify=y)"
   ]
  },
  {
   "cell_type": "code",
   "execution_count": 78,
   "metadata": {},
   "outputs": [
    {
     "data": {
      "text/plain": [
       "LogisticRegression(solver='liblinear')"
      ]
     },
     "execution_count": 78,
     "metadata": {},
     "output_type": "execute_result"
    }
   ],
   "source": [
    "# 모델 훈련\n",
    "from sklearn.linear_model import LogisticRegression\n",
    "logreg = LogisticRegression(solver='liblinear')\n",
    "logreg.fit(x_train,y_train)"
   ]
  },
  {
   "cell_type": "code",
   "execution_count": 80,
   "metadata": {},
   "outputs": [
    {
     "name": "stdout",
     "output_type": "stream",
     "text": [
      "prediction: [1. 0. 0. 0. 1. 1. 0. 1. 1. 0. 1. 1. 1. 1. 1. 1. 0. 0. 0. 0. 0. 0. 1. 1.\n",
      " 1. 0. 1. 0. 0. 1. 0. 1. 0. 1. 1. 0. 1. 1. 1. 1. 1. 1. 0. 0. 1. 1. 0. 1.\n",
      " 0. 1. 1. 0. 1. 1. 1. 0. 0. 1. 0. 1. 1. 1. 0. 1. 1. 1. 1. 0. 0. 0. 1. 1.\n",
      " 0. 1. 1. 0. 1. 1. 1. 0. 0. 1. 1. 1. 0. 0. 1. 1. 1. 1. 1. 1. 0. 1. 1. 0.\n",
      " 0. 1. 1. 1. 0. 1. 1. 1. 1. 1. 1. 1. 0. 0. 1. 0. 0. 1. 1. 1. 0. 1. 1. 0.\n",
      " 1. 1. 1. 1. 1. 1. 1. 1. 0. 1. 1. 0. 1. 1. 0. 1. 0. 1. 1. 1. 0. 1. 0.]\n",
      "훈련 데이터 점수: 0.960093896713615\n",
      "테스트 데이터 점수: 0.9300699300699301\n",
      "테스트 데이터 점수(반올림): 0.93\n"
     ]
    }
   ],
   "source": [
    "#정확도 확인\n",
    "print('prediction:',logreg.predict(x_test))\n",
    "print('훈련 데이터 점수:', logreg.score(x_train, y_train))\n",
    "print('테스트 데이터 점수:',logreg.score(x_test,y_test))\n",
    "print('테스트 데이터 점수(반올림):', round(logreg.score(x_test,y_test),3))"
   ]
  },
  {
   "cell_type": "code",
   "execution_count": 82,
   "metadata": {},
   "outputs": [
    {
     "name": "stdout",
     "output_type": "stream",
     "text": [
      "훈련 데이터 점수: 0.9812206572769953\n",
      "테스트 데이터 점수: 0.9440559440559441\n",
      "테스트 데이터 점수(반올림): 0.944\n"
     ]
    }
   ],
   "source": [
    "# 규제 낮추기 (C값이 높아지면 모델은 복잡해짐)\n",
    "logreg = LogisticRegression(solver='liblinear',C=100) # C의 기본값은 1이다.\n",
    "logreg.fit(x_train,y_train)\n",
    "print('훈련 데이터 점수:',logreg.score(x_train,y_train))\n",
    "print('테스트 데이터 점수:',logreg.score(x_test,y_test))\n",
    "print('테스트 데이터 점수(반올림):',round(logreg.score(x_test,y_test),3))"
   ]
  },
  {
   "cell_type": "code",
   "execution_count": 84,
   "metadata": {},
   "outputs": [
    {
     "name": "stdout",
     "output_type": "stream",
     "text": [
      "prediction: [1. 0. 0. 0. 1. 1. 0. 1. 1. 0. 1. 1. 1. 1. 0. 1. 0. 0. 0. 0. 0. 0. 1. 1.\n",
      " 1. 0. 1. 0. 0. 1. 0. 1. 0. 1. 1. 0. 1. 1. 1. 1. 1. 1. 0. 0. 1. 1. 0. 1.\n",
      " 0. 1. 1. 0. 1. 1. 1. 0. 0. 1. 0. 1. 1. 1. 0. 1. 1. 1. 1. 0. 0. 0. 1. 1.\n",
      " 0. 1. 1. 0. 1. 1. 1. 0. 0. 1. 1. 1. 0. 0. 1. 1. 1. 1. 1. 1. 0. 1. 1. 0.\n",
      " 0. 1. 1. 1. 0. 1. 1. 1. 1. 1. 1. 1. 0. 0. 1. 0. 0. 1. 1. 1. 0. 1. 1. 0.\n",
      " 1. 1. 1. 1. 1. 1. 1. 1. 0. 1. 1. 0. 1. 1. 0. 1. 0. 1. 1. 1. 0. 1. 0.]\n",
      "훈련 데이터 점수: 0.9624413145539906\n",
      "테스트 데이터 점수: 0.9370629370629371\n",
      "테스트 데이터 점수(반올림): 0.937\n"
     ]
    }
   ],
   "source": [
    "#규제 바꾸기\n",
    "logreg = LogisticRegression(solver='liblinear',penalty='l1')\n",
    "logreg.fit(x_train,y_train)\n",
    "print('prediction:',logreg.predict(x_test))\n",
    "print('훈련 데이터 점수:',logreg.score(x_train,y_train))\n",
    "print('테스트 데이터 점수:',logreg.score(x_test,y_test))\n",
    "print('테스트 데이터 점수(반올림):',round (logreg.score(x_test,y_test),3))"
   ]
  },
  {
   "cell_type": "markdown",
   "metadata": {},
   "source": [
    "### 나이브 베이즈"
   ]
  },
  {
   "cell_type": "code",
   "execution_count": 86,
   "metadata": {},
   "outputs": [
    {
     "name": "stdout",
     "output_type": "stream",
     "text": [
      "(100, 3)\n"
     ]
    }
   ],
   "source": [
    "blob = pd.read_csv('blob.csv',header=None)\n",
    "print(blob.shape)"
   ]
  },
  {
   "cell_type": "code",
   "execution_count": 87,
   "metadata": {},
   "outputs": [
    {
     "name": "stdout",
     "output_type": "stream",
     "text": [
      "(100, 2)\n",
      "(100,)\n"
     ]
    }
   ],
   "source": [
    "x = blob.iloc[:,0:2]\n",
    "y = blob.iloc[:,2]\n",
    "print(x.shape)\n",
    "print(y.shape)"
   ]
  },
  {
   "cell_type": "code",
   "execution_count": 88,
   "metadata": {},
   "outputs": [
    {
     "data": {
      "text/plain": [
       "GaussianNB()"
      ]
     },
     "execution_count": 88,
     "metadata": {},
     "output_type": "execute_result"
    }
   ],
   "source": [
    "#모델 훈련\n",
    "x_train,x_test,y_train,y_test = train_test_split(x,y,stratify=y)\n",
    "from sklearn.naive_bayes import GaussianNB\n",
    "gnb = GaussianNB()\n",
    "gnb.fit(x,y)"
   ]
  },
  {
   "cell_type": "code",
   "execution_count": 89,
   "metadata": {},
   "outputs": [
    {
     "name": "stdout",
     "output_type": "stream",
     "text": [
      "prediction: [1. 0. 1. 0. 0. 0. 0. 0. 1. 0. 0. 0. 1. 0. 1. 0. 1. 0. 0. 1. 1. 1. 1. 1.\n",
      " 1.]\n",
      "훈련 데이터 점수: 1.0\n",
      "테스트 데이터 점수: 1.0\n",
      "테스트 데이터 점수(반올림): 1.0\n"
     ]
    }
   ],
   "source": [
    "#정확도 확인\n",
    "print('prediction:',gnb.predict(x_test))\n",
    "print('훈련 데이터 점수:', gnb.score(x_train,y_train))\n",
    "print('테스트 데이터 점수:',gnb.score(x_test,y_test))\n",
    "print('테스트 데이터 점수(반올림):',round(gnb.score(x_test,y_test),3))"
   ]
  },
  {
   "cell_type": "markdown",
   "metadata": {},
   "source": [
    "#### 연습문제 - cancer.csv 나이브 베이지안 모델로 확인"
   ]
  },
  {
   "cell_type": "code",
   "execution_count": 90,
   "metadata": {},
   "outputs": [
    {
     "name": "stdout",
     "output_type": "stream",
     "text": [
      "(569, 30)\n",
      "(569,)\n"
     ]
    }
   ],
   "source": [
    "cancer = pd.read_csv('cancer.csv')\n",
    "x=cancer.iloc[:,0:30]\n",
    "y=cancer.iloc[:,30]\n",
    "print(x.shape)\n",
    "print(y.shape)"
   ]
  },
  {
   "cell_type": "code",
   "execution_count": 91,
   "metadata": {},
   "outputs": [],
   "source": [
    "# 데이터 쪼개기\n",
    "x_train,x_test,y_train,y_test = train_test_split(x,y,stratify=y)"
   ]
  },
  {
   "cell_type": "code",
   "execution_count": 92,
   "metadata": {},
   "outputs": [
    {
     "data": {
      "text/plain": [
       "GaussianNB()"
      ]
     },
     "execution_count": 92,
     "metadata": {},
     "output_type": "execute_result"
    }
   ],
   "source": [
    "#나이브 베이지 회귀 모델에서 확인하기\n",
    "gnb=GaussianNB()\n",
    "gnb.fit(x,y)"
   ]
  },
  {
   "cell_type": "code",
   "execution_count": 93,
   "metadata": {},
   "outputs": [
    {
     "name": "stdout",
     "output_type": "stream",
     "text": [
      "prediction: [1. 1. 1. 0. 0. 1. 1. 0. 1. 1. 0. 0. 1. 1. 1. 1. 1. 1. 1. 0. 0. 1. 1. 1.\n",
      " 1. 1. 1. 0. 1. 0. 1. 1. 1. 1. 1. 1. 1. 1. 1. 1. 1. 1. 1. 0. 0. 1. 1. 1.\n",
      " 1. 1. 1. 0. 0. 0. 1. 1. 0. 1. 1. 1. 1. 1. 1. 0. 1. 1. 1. 1. 0. 1. 1. 1.\n",
      " 1. 1. 0. 0. 1. 1. 1. 0. 1. 1. 1. 1. 0. 1. 0. 1. 1. 1. 0. 1. 1. 1. 1. 1.\n",
      " 1. 0. 0. 1. 1. 0. 1. 1. 1. 1. 1. 0. 0. 1. 1. 1. 1. 1. 1. 1. 0. 0. 1. 1.\n",
      " 0. 0. 1. 0. 0. 0. 0. 0. 1. 0. 0. 1. 0. 0. 0. 0. 0. 1. 0. 0. 1. 1. 1.]\n",
      "훈련 데이터 점수: 0.9483568075117371\n",
      "테스트 데이터 점수: 0.9230769230769231\n",
      "테스트 데이터 점수(반올림): 0.923\n"
     ]
    }
   ],
   "source": [
    "print('prediction:',gnb.predict(x_test))\n",
    "print('훈련 데이터 점수:',gnb.score(x_train,y_train))\n",
    "print('테스트 데이터 점수:',gnb.score(x_test,y_test))\n",
    "print('테스트 데이터 점수(반올림):',round(gnb.score(x_test,y_test),3))"
   ]
  },
  {
   "cell_type": "code",
   "execution_count": null,
   "metadata": {},
   "outputs": [],
   "source": []
  }
 ],
 "metadata": {
  "kernelspec": {
   "display_name": "Python 3",
   "language": "python",
   "name": "python3"
  },
  "language_info": {
   "codemirror_mode": {
    "name": "ipython",
    "version": 3
   },
   "file_extension": ".py",
   "mimetype": "text/x-python",
   "name": "python",
   "nbconvert_exporter": "python",
   "pygments_lexer": "ipython3",
   "version": "3.8.3"
  }
 },
 "nbformat": 4,
 "nbformat_minor": 4
}
